{
 "cells": [
  {
   "cell_type": "markdown",
   "id": "5b76dc0d",
   "metadata": {},
   "source": [
    "# AI Finance App — Notebooks\n",
    "Level 1: Verify data fetch pipeline and basic charts.\n",
    "\n",
    "- Future: Level 2 — indicators and EDA\n",
    "- Future: Level 3 — ML features and evaluation\n",
    "- Future: Level 4 — DL models (LSTM/GRU)"
   ]
  }
 ],
 "metadata": {
  "language_info": {
   "name": "python"
  }
 },
 "nbformat": 4,
 "nbformat_minor": 5
}
